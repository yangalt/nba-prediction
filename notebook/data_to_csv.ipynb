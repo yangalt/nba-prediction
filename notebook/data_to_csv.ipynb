{
 "cells": [
  {
   "cell_type": "code",
   "execution_count": null,
   "id": "fb90e4c4",
   "metadata": {},
   "outputs": [],
   "source": [
    "pip install nba_api"
   ]
  },
  {
   "cell_type": "code",
   "execution_count": null,
   "id": "f7028f51",
   "metadata": {},
   "outputs": [],
   "source": [
    "import pandas as pd\n",
    "from nba_api.stats.endpoints import leaguegamelog\n",
    "for i in range(2016,2021):\n",
    "    leaguegame=leaguegamelog.LeagueGameLog(0,season=i).get_data_frames()[0]\n",
    "    df = pd.DataFrame(leaguegame)\n",
    "    df.to_csv(str(i)+'_tradition.csv')"
   ]
  },
  {
   "cell_type": "code",
   "execution_count": null,
   "id": "b4aadb23",
   "metadata": {},
   "outputs": [],
   "source": [
    "from nba_api.stats.endpoints import boxscoreadvancedv2\n",
    "game_id='0022000001'\n",
    "leaguegame=boxscoreadvancedv2.BoxScoreAdvancedV2(game_id).get_data_frames()[1]"
   ]
  },
  {
   "cell_type": "code",
   "execution_count": null,
   "id": "0645ee5f",
   "metadata": {},
   "outputs": [],
   "source": [
    "game_null='00'\n",
    "for i in range(22000002,22001081):\n",
    "    game_id=game_null+str(i)\n",
    "    leaguegames=boxscoreadvancedv2.BoxScoreAdvancedV2(game_id).get_data_frames()[1]\n",
    "    leaguegame=leaguegame.append(leaguegames)"
   ]
  },
  {
   "cell_type": "code",
   "execution_count": null,
   "id": "fe0159bb",
   "metadata": {},
   "outputs": [],
   "source": [
    "leaguegame.to_csv('2020_advanced.csv')"
   ]
  },
  {
   "cell_type": "code",
   "execution_count": null,
   "id": "32056117",
   "metadata": {},
   "outputs": [],
   "source": [
    "from nba_api.stats.endpoints import boxscoreadvancedv2\n",
    "game_id='0021900001'\n",
    "leaguegame_2019=boxscoreadvancedv2.BoxScoreAdvancedV2(game_id).get_data_frames()[1]"
   ]
  },
  {
   "cell_type": "code",
   "execution_count": null,
   "id": "fe8610ff",
   "metadata": {},
   "outputs": [],
   "source": [
    "game_null='00'\n",
    "for i in range(21900002,21901319):\n",
    "    game_id=game_null+str(i)\n",
    "    leaguegames_2019=boxscoreadvancedv2.BoxScoreAdvancedV2(game_id).get_data_frames()[1]\n",
    "    leaguegame_2019=leaguegame_2019.append(leaguegames)"
   ]
  },
  {
   "cell_type": "code",
   "execution_count": null,
   "id": "a25fc634",
   "metadata": {},
   "outputs": [],
   "source": [
    "leaguegame.to_csv('2019_advanced.csv')"
   ]
  },
  {
   "cell_type": "code",
   "execution_count": null,
   "id": "fb783622",
   "metadata": {},
   "outputs": [],
   "source": [
    "from nba_api.stats.endpoints import boxscoreadvancedv2\n",
    "game_id='0021700001'\n",
    "leaguegame_2017=boxscoreadvancedv2.BoxScoreAdvancedV2(game_id).get_data_frames()[1]"
   ]
  },
  {
   "cell_type": "code",
   "execution_count": null,
   "id": "51e479c4",
   "metadata": {},
   "outputs": [],
   "source": [
    "game_null='00'\n",
    "for i in range(21700002,21701231):\n",
    "    game_id=game_null+str(i)\n",
    "    leaguegames_2017=boxscoreadvancedv2.BoxScoreAdvancedV2(game_id).get_data_frames()[1]\n",
    "    leaguegame_2017=leaguegame_2017.append(leaguegames_2017)"
   ]
  },
  {
   "cell_type": "code",
   "execution_count": null,
   "id": "6cee5a5c",
   "metadata": {},
   "outputs": [],
   "source": [
    "leaguegame_2017.to_csv('2017_advanced.csv')"
   ]
  },
  {
   "cell_type": "code",
   "execution_count": null,
   "id": "24ca9898",
   "metadata": {},
   "outputs": [],
   "source": [
    "from nba_api.stats.endpoints import boxscoreadvancedv2\n",
    "game_id='0021800001'\n",
    "leaguegame_2018=boxscoreadvancedv2.BoxScoreAdvancedV2(game_id).get_data_frames()[1]"
   ]
  },
  {
   "cell_type": "code",
   "execution_count": null,
   "id": "1d897aca",
   "metadata": {},
   "outputs": [],
   "source": [
    "game_null='00'\n",
    "for i in range(21800002,21801231):\n",
    "    game_id=game_null+str(i)\n",
    "    leaguegames_2018=boxscoreadvancedv2.BoxScoreAdvancedV2(game_id).get_data_frames()[1]\n",
    "    leaguegame_2018=leaguegame_2018.append(leaguegames_2018)"
   ]
  },
  {
   "cell_type": "code",
   "execution_count": null,
   "id": "988c6bbf",
   "metadata": {},
   "outputs": [],
   "source": [
    "leaguegame_2018.to_csv('2018_advanced.csv')"
   ]
  },
  {
   "cell_type": "code",
   "execution_count": null,
   "id": "92d15b5c",
   "metadata": {},
   "outputs": [],
   "source": [
    "from nba_api.stats.endpoints import boxscoreadvancedv2\n",
    "game_id='0021600001'\n",
    "leaguegame_2016=boxscoreadvancedv2.BoxScoreAdvancedV2(game_id).get_data_frames()[1]"
   ]
  },
  {
   "cell_type": "code",
   "execution_count": null,
   "id": "ac67fe43",
   "metadata": {},
   "outputs": [],
   "source": [
    "game_null='00'\n",
    "for i in range(21600002,21601231):\n",
    "    game_id=game_null+str(i)\n",
    "    leaguegames_2016=boxscoreadvancedv2.BoxScoreAdvancedV2(game_id).get_data_frames()[1]\n",
    "    leaguegame_2016=leaguegame_2016.append(leaguegames_2017)"
   ]
  },
  {
   "cell_type": "code",
   "execution_count": null,
   "id": "162804cb",
   "metadata": {},
   "outputs": [],
   "source": [
    "leaguegame_2016.to_csv('2016_advanced.csv')"
   ]
  }
 ],
 "metadata": {
  "kernelspec": {
   "display_name": "Python 3 (ipykernel)",
   "language": "python",
   "name": "python3"
  },
  "language_info": {
   "codemirror_mode": {
    "name": "ipython",
    "version": 3
   },
   "file_extension": ".py",
   "mimetype": "text/x-python",
   "name": "python",
   "nbconvert_exporter": "python",
   "pygments_lexer": "ipython3",
   "version": "3.9.7"
  }
 },
 "nbformat": 4,
 "nbformat_minor": 5
}
